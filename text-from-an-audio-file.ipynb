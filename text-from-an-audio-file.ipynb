{
  "cells": [
    {
      "cell_type": "markdown",
      "metadata": {
        "id": "zwB97XBSar8X"
      },
      "source": [
        "We run each line in order, but we need to wait for one line to be executed in order to run the other."
      ]
    },
    {
      "cell_type": "code",
      "execution_count": null,
      "metadata": {
        "id": "yYY-VbxIZs67"
      },
      "outputs": [],
      "source": [
        "pip install pydub"
      ]
    },
    {
      "cell_type": "code",
      "execution_count": null,
      "metadata": {
        "id": "spS-R9jlnaDB"
      },
      "outputs": [],
      "source": [
        "pip install -U openai-whisper"
      ]
    },
    {
      "cell_type": "code",
      "execution_count": null,
      "metadata": {
        "id": "YAK5VOzta7r-"
      },
      "outputs": [],
      "source": [
        "!apt install ffmpeg"
      ]
    },
    {
      "cell_type": "code",
      "execution_count": null,
      "metadata": {
        "collapsed": true,
        "id": "BGmIjwlNbAZ1"
      },
      "outputs": [],
      "source": [
        "pip install spleeter\n"
      ]
    },
    {
      "cell_type": "code",
      "execution_count": null,
      "metadata": {
        "id": "ELY8tPZObK8O"
      },
      "outputs": [],
      "source": [
        "from IPython.display import Audio"
      ]
    },
    {
      "cell_type": "markdown",
      "metadata": {
        "id": "ycToaHExbhAN"
      },
      "source": [
        "We also run the programs in order, but we need to wait for one line to run the other."
      ]
    },
    {
      "cell_type": "code",
      "execution_count": null,
      "metadata": {
        "id": "OH2hCF-Wb5vG"
      },
      "outputs": [],
      "source": [
        "from pydub import AudioSegment\n",
        "from pydub import effects\n",
        "vv = input(\"Enter the file name along with its extension:\")\n",
        "sound_before = AudioSegment.from_file(vv, \"wav\")\n",
        "print('current dBFS: ', round(sound_before.dBFS, 1))\n",
        "sound_after = effects.normalize(sound_before)\n",
        "print('dBFS after normalization: ', round(sound_after.dBFS, 1), '\\n')\n",
        "sound_after.export(vv, format=\"wav\")\n",
        "print(\"The process is completed\")"
      ]
    },
    {
      "cell_type": "code",
      "execution_count": null,
      "metadata": {
        "id": "S7DN-k0Vclym"
      },
      "outputs": [],
      "source": [
        "!spleeter separate -o output/ 1.wav #change 1.wav to your audio file"
      ]
    },
    {
      "cell_type": "code",
      "execution_count": null,
      "metadata": {
        "id": "tM3KXUP3hEWx"
      },
      "outputs": [],
      "source": [
        "#transfer the vocals.wav file"
      ]
    },
    {
      "cell_type": "code",
      "execution_count": null,
      "metadata": {
        "id": "kgvjq-h0cqjW"
      },
      "outputs": [],
      "source": [
        "!whisper vocals.wav --model large-v2\n",
        "#you can change the resolution depending on the complexity of the audio file,\n",
        "#change large to: large-v2 or large-v3. the older the model, the fewer errors there are,\n",
        "##but audio processing takes longer. we recommend if the file is small, short-lived and uncomplicated,\n",
        "##it is not noisy to use the initial model, but to increase the model as the complexity increases.\n",
        "##also, the processing speed may depend on the PC."
      ]
    }
  ],
  "metadata": {
    "colab": {
      "provenance": []
    },
    "kernelspec": {
      "display_name": "Python 3",
      "name": "python3"
    },
    "language_info": {
      "codemirror_mode": {
        "name": "ipython",
        "version": 3
      },
      "file_extension": ".py",
      "mimetype": "text/x-python",
      "name": "python",
      "nbconvert_exporter": "python",
      "pygments_lexer": "ipython3",
      "version": "3.12.3"
    }
  },
  "nbformat": 4,
  "nbformat_minor": 0
}
